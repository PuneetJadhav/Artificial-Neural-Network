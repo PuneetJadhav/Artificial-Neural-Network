{
 "cells": [
  {
   "cell_type": "code",
   "execution_count": 1,
   "metadata": {},
   "outputs": [
    {
     "name": "stderr",
     "output_type": "stream",
     "text": [
      "Using TensorFlow backend.\n"
     ]
    }
   ],
   "source": [
    "import pandas as pd\n",
    "import numpy as np\n",
    "import sklearn\n",
    "import keras\n",
    "import tensorflow"
   ]
  },
  {
   "cell_type": "code",
   "execution_count": 2,
   "metadata": {
    "collapsed": true
   },
   "outputs": [],
   "source": [
    "import os\n",
    "import warnings\n",
    "os.chdir('C:\\\\College\\\\Deep Learning\\\\Artificial_Neural_Networks')"
   ]
  },
  {
   "cell_type": "code",
   "execution_count": 3,
   "metadata": {
    "collapsed": true
   },
   "outputs": [],
   "source": [
    "dataset=pd.read_csv(\"Churn_Modelling.csv\")"
   ]
  },
  {
   "cell_type": "code",
   "execution_count": 4,
   "metadata": {},
   "outputs": [
    {
     "data": {
      "text/html": [
       "<div>\n",
       "<style scoped>\n",
       "    .dataframe tbody tr th:only-of-type {\n",
       "        vertical-align: middle;\n",
       "    }\n",
       "\n",
       "    .dataframe tbody tr th {\n",
       "        vertical-align: top;\n",
       "    }\n",
       "\n",
       "    .dataframe thead th {\n",
       "        text-align: right;\n",
       "    }\n",
       "</style>\n",
       "<table border=\"1\" class=\"dataframe\">\n",
       "  <thead>\n",
       "    <tr style=\"text-align: right;\">\n",
       "      <th></th>\n",
       "      <th>RowNumber</th>\n",
       "      <th>CustomerId</th>\n",
       "      <th>Surname</th>\n",
       "      <th>CreditScore</th>\n",
       "      <th>Geography</th>\n",
       "      <th>Gender</th>\n",
       "      <th>Age</th>\n",
       "      <th>Tenure</th>\n",
       "      <th>Balance</th>\n",
       "      <th>NumOfProducts</th>\n",
       "      <th>HasCrCard</th>\n",
       "      <th>IsActiveMember</th>\n",
       "      <th>EstimatedSalary</th>\n",
       "      <th>Exited</th>\n",
       "    </tr>\n",
       "  </thead>\n",
       "  <tbody>\n",
       "    <tr>\n",
       "      <th>0</th>\n",
       "      <td>1</td>\n",
       "      <td>15634602</td>\n",
       "      <td>Hargrave</td>\n",
       "      <td>619</td>\n",
       "      <td>France</td>\n",
       "      <td>Female</td>\n",
       "      <td>42</td>\n",
       "      <td>2</td>\n",
       "      <td>0.00</td>\n",
       "      <td>1</td>\n",
       "      <td>1</td>\n",
       "      <td>1</td>\n",
       "      <td>101348.88</td>\n",
       "      <td>1</td>\n",
       "    </tr>\n",
       "    <tr>\n",
       "      <th>1</th>\n",
       "      <td>2</td>\n",
       "      <td>15647311</td>\n",
       "      <td>Hill</td>\n",
       "      <td>608</td>\n",
       "      <td>Spain</td>\n",
       "      <td>Female</td>\n",
       "      <td>41</td>\n",
       "      <td>1</td>\n",
       "      <td>83807.86</td>\n",
       "      <td>1</td>\n",
       "      <td>0</td>\n",
       "      <td>1</td>\n",
       "      <td>112542.58</td>\n",
       "      <td>0</td>\n",
       "    </tr>\n",
       "    <tr>\n",
       "      <th>2</th>\n",
       "      <td>3</td>\n",
       "      <td>15619304</td>\n",
       "      <td>Onio</td>\n",
       "      <td>502</td>\n",
       "      <td>France</td>\n",
       "      <td>Female</td>\n",
       "      <td>42</td>\n",
       "      <td>8</td>\n",
       "      <td>159660.80</td>\n",
       "      <td>3</td>\n",
       "      <td>1</td>\n",
       "      <td>0</td>\n",
       "      <td>113931.57</td>\n",
       "      <td>1</td>\n",
       "    </tr>\n",
       "    <tr>\n",
       "      <th>3</th>\n",
       "      <td>4</td>\n",
       "      <td>15701354</td>\n",
       "      <td>Boni</td>\n",
       "      <td>699</td>\n",
       "      <td>France</td>\n",
       "      <td>Female</td>\n",
       "      <td>39</td>\n",
       "      <td>1</td>\n",
       "      <td>0.00</td>\n",
       "      <td>2</td>\n",
       "      <td>0</td>\n",
       "      <td>0</td>\n",
       "      <td>93826.63</td>\n",
       "      <td>0</td>\n",
       "    </tr>\n",
       "    <tr>\n",
       "      <th>4</th>\n",
       "      <td>5</td>\n",
       "      <td>15737888</td>\n",
       "      <td>Mitchell</td>\n",
       "      <td>850</td>\n",
       "      <td>Spain</td>\n",
       "      <td>Female</td>\n",
       "      <td>43</td>\n",
       "      <td>2</td>\n",
       "      <td>125510.82</td>\n",
       "      <td>1</td>\n",
       "      <td>1</td>\n",
       "      <td>1</td>\n",
       "      <td>79084.10</td>\n",
       "      <td>0</td>\n",
       "    </tr>\n",
       "  </tbody>\n",
       "</table>\n",
       "</div>"
      ],
      "text/plain": [
       "   RowNumber  CustomerId   Surname  CreditScore Geography  Gender  Age  \\\n",
       "0          1    15634602  Hargrave          619    France  Female   42   \n",
       "1          2    15647311      Hill          608     Spain  Female   41   \n",
       "2          3    15619304      Onio          502    France  Female   42   \n",
       "3          4    15701354      Boni          699    France  Female   39   \n",
       "4          5    15737888  Mitchell          850     Spain  Female   43   \n",
       "\n",
       "   Tenure    Balance  NumOfProducts  HasCrCard  IsActiveMember  \\\n",
       "0       2       0.00              1          1               1   \n",
       "1       1   83807.86              1          0               1   \n",
       "2       8  159660.80              3          1               0   \n",
       "3       1       0.00              2          0               0   \n",
       "4       2  125510.82              1          1               1   \n",
       "\n",
       "   EstimatedSalary  Exited  \n",
       "0        101348.88       1  \n",
       "1        112542.58       0  \n",
       "2        113931.57       1  \n",
       "3         93826.63       0  \n",
       "4         79084.10       0  "
      ]
     },
     "execution_count": 4,
     "metadata": {},
     "output_type": "execute_result"
    }
   ],
   "source": [
    "dataset.head()"
   ]
  },
  {
   "cell_type": "code",
   "execution_count": 5,
   "metadata": {
    "collapsed": true
   },
   "outputs": [],
   "source": [
    "X=dataset.iloc[:,3:len(dataset.columns)-1].values\n",
    "Y=dataset.iloc[:,len(dataset.columns)-1:].values"
   ]
  },
  {
   "cell_type": "code",
   "execution_count": 6,
   "metadata": {
    "collapsed": true
   },
   "outputs": [],
   "source": [
    "from sklearn.preprocessing import LabelEncoder,OneHotEncoder\n",
    "labelencoder_Geography = LabelEncoder()\n",
    "X[:,1]=labelencoder_Geography.fit_transform(X[:,1])\n",
    "labelencoder_Gender = LabelEncoder()\n",
    "X[:,2]=labelencoder_Gender.fit_transform(X[:,2])\n",
    "onehotencoder = OneHotEncoder(categorical_features=[1])\n",
    "X = onehotencoder.fit_transform(X).toarray()\n",
    "X = X[:,1:]"
   ]
  },
  {
   "cell_type": "code",
   "execution_count": 7,
   "metadata": {},
   "outputs": [
    {
     "name": "stderr",
     "output_type": "stream",
     "text": [
      "C:\\Users\\PuneetPC\\Anaconda3\\lib\\site-packages\\sklearn\\cross_validation.py:41: DeprecationWarning: This module was deprecated in version 0.18 in favor of the model_selection module into which all the refactored classes and functions are moved. Also note that the interface of the new CV iterators are different from that of this module. This module will be removed in 0.20.\n",
      "  \"This module will be removed in 0.20.\", DeprecationWarning)\n"
     ]
    }
   ],
   "source": [
    "from sklearn.cross_validation import train_test_split\n",
    "X_train,X_test,Y_train,Y_test=train_test_split(X,Y,test_size=0.2)"
   ]
  },
  {
   "cell_type": "code",
   "execution_count": 8,
   "metadata": {
    "collapsed": true
   },
   "outputs": [],
   "source": [
    "from sklearn.preprocessing import StandardScaler\n",
    "sc_X=StandardScaler()\n",
    "X_train=sc_X.fit_transform(X_train)\n",
    "X_test=sc_X.transform(X_test)"
   ]
  },
  {
   "cell_type": "code",
   "execution_count": 9,
   "metadata": {},
   "outputs": [
    {
     "name": "stderr",
     "output_type": "stream",
     "text": [
      "C:\\Users\\PuneetPC\\Anaconda3\\lib\\site-packages\\ipykernel_launcher.py:4: UserWarning: Update your `Dense` call to the Keras 2 API: `Dense(input_dim=11, activation=\"relu\", units=6, kernel_initializer=\"uniform\")`\n",
      "  after removing the cwd from sys.path.\n",
      "C:\\Users\\PuneetPC\\Anaconda3\\lib\\site-packages\\ipykernel_launcher.py:5: UserWarning: Update your `Dense` call to the Keras 2 API: `Dense(activation=\"relu\", units=6, kernel_initializer=\"uniform\")`\n",
      "  \"\"\"\n",
      "C:\\Users\\PuneetPC\\Anaconda3\\lib\\site-packages\\ipykernel_launcher.py:6: UserWarning: Update your `Dense` call to the Keras 2 API: `Dense(activation=\"relu\", units=6, kernel_initializer=\"uniform\")`\n",
      "  \n",
      "C:\\Users\\PuneetPC\\Anaconda3\\lib\\site-packages\\ipykernel_launcher.py:7: UserWarning: Update your `Dense` call to the Keras 2 API: `Dense(activation=\"sigmoid\", units=1, kernel_initializer=\"uniform\")`\n",
      "  import sys\n"
     ]
    }
   ],
   "source": [
    "from keras.layers import Dense\n",
    "from keras.models import Sequential\n",
    "classifier=Sequential()\n",
    "classifier.add(Dense(input_dim=11,output_dim=6,init='uniform',activation='relu'))\n",
    "classifier.add(Dense(output_dim=6,init='uniform',activation='relu'))\n",
    "classifier.add(Dense(output_dim=6,init='uniform',activation='relu'))\n",
    "classifier.add(Dense(output_dim=1,init='uniform',activation='sigmoid'))\n",
    "classifier.compile(optimizer='rmsprop',loss='binary_crossentropy',metrics=['accuracy'])"
   ]
  },
  {
   "cell_type": "code",
   "execution_count": 10,
   "metadata": {},
   "outputs": [
    {
     "name": "stdout",
     "output_type": "stream",
     "text": [
      "Epoch 1/100\n",
      "8000/8000 [==============================] - 9s 1ms/step - loss: 0.4567 - acc: 0.8125\n",
      "Epoch 2/100\n",
      "8000/8000 [==============================] - 9s 1ms/step - loss: 0.4353 - acc: 0.8307\n",
      "Epoch 3/100\n",
      "8000/8000 [==============================] - 9s 1ms/step - loss: 0.4318 - acc: 0.8353\n",
      "Epoch 4/100\n",
      "8000/8000 [==============================] - 9s 1ms/step - loss: 0.4276 - acc: 0.8371\n",
      "Epoch 5/100\n",
      "8000/8000 [==============================] - 10s 1ms/step - loss: 0.4234 - acc: 0.8382\n",
      "Epoch 6/100\n",
      "8000/8000 [==============================] - 9s 1ms/step - loss: 0.4263 - acc: 0.8374\n",
      "Epoch 7/100\n",
      "8000/8000 [==============================] - 8s 1ms/step - loss: 0.4243 - acc: 0.8361\n",
      "Epoch 8/100\n",
      "8000/8000 [==============================] - 8s 1ms/step - loss: 0.4230 - acc: 0.8367\n",
      "Epoch 9/100\n",
      "8000/8000 [==============================] - 8s 979us/step - loss: 0.4254 - acc: 0.8377\n",
      "Epoch 10/100\n",
      "8000/8000 [==============================] - 8s 1ms/step - loss: 0.4244 - acc: 0.8377\n",
      "Epoch 11/100\n",
      "8000/8000 [==============================] - 8s 1ms/step - loss: 0.4255 - acc: 0.8367\n",
      "Epoch 12/100\n",
      "8000/8000 [==============================] - 8s 1ms/step - loss: 0.4275 - acc: 0.8366\n",
      "Epoch 13/100\n",
      "8000/8000 [==============================] - 8s 1ms/step - loss: 0.4272 - acc: 0.8325\n",
      "Epoch 14/100\n",
      "8000/8000 [==============================] - 10s 1ms/step - loss: 0.4279 - acc: 0.8382\n",
      "Epoch 15/100\n",
      "8000/8000 [==============================] - 10s 1ms/step - loss: 0.4270 - acc: 0.8365\n",
      "Epoch 16/100\n",
      "8000/8000 [==============================] - 10s 1ms/step - loss: 0.4287 - acc: 0.8379\n",
      "Epoch 17/100\n",
      "8000/8000 [==============================] - 9s 1ms/step - loss: 0.4302 - acc: 0.8350\n",
      "Epoch 18/100\n",
      "8000/8000 [==============================] - 8s 1ms/step - loss: 0.4264 - acc: 0.8356\n",
      "Epoch 19/100\n",
      "8000/8000 [==============================] - 8s 1ms/step - loss: 0.4250 - acc: 0.8375\n",
      "Epoch 20/100\n",
      "8000/8000 [==============================] - 8s 994us/step - loss: 0.4301 - acc: 0.8375\n",
      "Epoch 21/100\n",
      "8000/8000 [==============================] - 8s 1ms/step - loss: 0.4290 - acc: 0.8363\n",
      "Epoch 22/100\n",
      "8000/8000 [==============================] - 8s 1ms/step - loss: 0.4285 - acc: 0.8354\n",
      "Epoch 23/100\n",
      "8000/8000 [==============================] - 8s 1ms/step - loss: 0.4284 - acc: 0.8339\n",
      "Epoch 24/100\n",
      "8000/8000 [==============================] - 8s 999us/step - loss: 0.4290 - acc: 0.8386\n",
      "Epoch 25/100\n",
      "8000/8000 [==============================] - 9s 1ms/step - loss: 0.4291 - acc: 0.8349\n",
      "Epoch 26/100\n",
      "8000/8000 [==============================] - 10s 1ms/step - loss: 0.4303 - acc: 0.8374\n",
      "Epoch 27/100\n",
      "8000/8000 [==============================] - 8s 1ms/step - loss: 0.4296 - acc: 0.8364\n",
      "Epoch 28/100\n",
      "8000/8000 [==============================] - 8s 993us/step - loss: 0.4310 - acc: 0.8356\n",
      "Epoch 29/100\n",
      "8000/8000 [==============================] - 8s 1ms/step - loss: 0.4307 - acc: 0.8346\n",
      "Epoch 30/100\n",
      "8000/8000 [==============================] - 8s 1ms/step - loss: 0.4312 - acc: 0.8353\n",
      "Epoch 31/100\n",
      "8000/8000 [==============================] - 8s 999us/step - loss: 0.4285 - acc: 0.8363\n",
      "Epoch 32/100\n",
      "8000/8000 [==============================] - 8s 1ms/step - loss: 0.4255 - acc: 0.8372\n",
      "Epoch 33/100\n",
      "8000/8000 [==============================] - 9s 1ms/step - loss: 0.4305 - acc: 0.8361\n",
      "Epoch 34/100\n",
      "8000/8000 [==============================] - 8s 1ms/step - loss: 0.4268 - acc: 0.8355\n",
      "Epoch 35/100\n",
      "8000/8000 [==============================] - 8s 1ms/step - loss: 0.4278 - acc: 0.8371\n",
      "Epoch 36/100\n",
      "8000/8000 [==============================] - 9s 1ms/step - loss: 0.4273 - acc: 0.8336\n",
      "Epoch 37/100\n",
      "8000/8000 [==============================] - 9s 1ms/step - loss: 0.4306 - acc: 0.8353\n",
      "Epoch 38/100\n",
      "8000/8000 [==============================] - 8s 978us/step - loss: 0.4282 - acc: 0.8369\n",
      "Epoch 39/100\n",
      "8000/8000 [==============================] - 8s 990us/step - loss: 0.4285 - acc: 0.8354\n",
      "Epoch 40/100\n",
      "8000/8000 [==============================] - 8s 981us/step - loss: 0.4273 - acc: 0.8349\n",
      "Epoch 41/100\n",
      "8000/8000 [==============================] - 8s 1ms/step - loss: 0.4295 - acc: 0.8372\n",
      "Epoch 42/100\n",
      "8000/8000 [==============================] - 8s 1ms/step - loss: 0.4286 - acc: 0.8349\n",
      "Epoch 43/100\n",
      "8000/8000 [==============================] - 8s 1ms/step - loss: 0.4315 - acc: 0.8359\n",
      "Epoch 44/100\n",
      "8000/8000 [==============================] - 8s 981us/step - loss: 0.4297 - acc: 0.8353\n",
      "Epoch 45/100\n",
      "8000/8000 [==============================] - 8s 971us/step - loss: 0.4301 - acc: 0.8354\n",
      "Epoch 46/100\n",
      "8000/8000 [==============================] - 8s 982us/step - loss: 0.4304 - acc: 0.8341\n",
      "Epoch 47/100\n",
      "8000/8000 [==============================] - 9s 1ms/step - loss: 0.4331 - acc: 0.8340\n",
      "Epoch 48/100\n",
      "8000/8000 [==============================] - 9s 1ms/step - loss: 0.4320 - acc: 0.8320\n",
      "Epoch 49/100\n",
      "8000/8000 [==============================] - 8s 981us/step - loss: 0.4313 - acc: 0.8357\n",
      "Epoch 50/100\n",
      "8000/8000 [==============================] - 8s 979us/step - loss: 0.4314 - acc: 0.8342\n",
      "Epoch 51/100\n",
      "8000/8000 [==============================] - 8s 971us/step - loss: 0.4335 - acc: 0.8339\n",
      "Epoch 52/100\n",
      "8000/8000 [==============================] - 8s 983us/step - loss: 0.4342 - acc: 0.8341\n",
      "Epoch 53/100\n",
      "8000/8000 [==============================] - 8s 976us/step - loss: 0.4327 - acc: 0.8350\n",
      "Epoch 54/100\n",
      "8000/8000 [==============================] - 8s 1ms/step - loss: 0.4315 - acc: 0.8351\n",
      "Epoch 55/100\n",
      "8000/8000 [==============================] - 10s 1ms/step - loss: 0.4357 - acc: 0.8342\n",
      "Epoch 56/100\n",
      "8000/8000 [==============================] - 10s 1ms/step - loss: 0.4312 - acc: 0.8337\n",
      "Epoch 57/100\n",
      "8000/8000 [==============================] - 9s 1ms/step - loss: 0.4319 - acc: 0.8346\n",
      "Epoch 58/100\n",
      "8000/8000 [==============================] - 12s 1ms/step - loss: 0.4331 - acc: 0.8344\n",
      "Epoch 59/100\n",
      "8000/8000 [==============================] - 9s 1ms/step - loss: 0.4345 - acc: 0.8347\n",
      "Epoch 60/100\n",
      "8000/8000 [==============================] - 8s 1ms/step - loss: 0.4349 - acc: 0.8370\n",
      "Epoch 61/100\n",
      "8000/8000 [==============================] - 9s 1ms/step - loss: 0.4336 - acc: 0.8347\n",
      "Epoch 62/100\n",
      "8000/8000 [==============================] - 8s 1ms/step - loss: 0.4333 - acc: 0.8327\n",
      "Epoch 63/100\n",
      "8000/8000 [==============================] - 9s 1ms/step - loss: 0.4368 - acc: 0.8354\n",
      "Epoch 64/100\n",
      "8000/8000 [==============================] - 8s 1ms/step - loss: 0.4363 - acc: 0.8331\n",
      "Epoch 65/100\n",
      "8000/8000 [==============================] - 7s 878us/step - loss: 0.4340 - acc: 0.8385\n",
      "Epoch 66/100\n",
      "8000/8000 [==============================] - 7s 874us/step - loss: 0.4375 - acc: 0.8350\n",
      "Epoch 67/100\n",
      "8000/8000 [==============================] - 7s 911us/step - loss: 0.4363 - acc: 0.8367\n",
      "Epoch 68/100\n",
      "8000/8000 [==============================] - 8s 968us/step - loss: 0.4389 - acc: 0.8321\n",
      "Epoch 69/100\n",
      "8000/8000 [==============================] - 9s 1ms/step - loss: 0.4370 - acc: 0.8351\n",
      "Epoch 70/100\n",
      "8000/8000 [==============================] - 8s 1ms/step - loss: 0.4380 - acc: 0.8344A: 0s - loss: \n",
      "Epoch 71/100\n",
      "8000/8000 [==============================] - 9s 1ms/step - loss: 0.4358 - acc: 0.8344\n",
      "Epoch 72/100\n",
      "8000/8000 [==============================] - 8s 1ms/step - loss: 0.4382 - acc: 0.8303\n",
      "Epoch 73/100\n",
      "8000/8000 [==============================] - 8s 1ms/step - loss: 0.4400 - acc: 0.8327\n",
      "Epoch 74/100\n",
      "8000/8000 [==============================] - 8s 1ms/step - loss: 0.4368 - acc: 0.8349\n",
      "Epoch 75/100\n",
      "8000/8000 [==============================] - 8s 1ms/step - loss: 0.4367 - acc: 0.8350\n",
      "Epoch 76/100\n",
      "8000/8000 [==============================] - 8s 1ms/step - loss: 0.4399 - acc: 0.8332\n",
      "Epoch 77/100\n",
      "8000/8000 [==============================] - 9s 1ms/step - loss: 0.4362 - acc: 0.8315\n",
      "Epoch 78/100\n",
      "8000/8000 [==============================] - 9s 1ms/step - loss: 0.4419 - acc: 0.8317\n",
      "Epoch 79/100\n",
      "8000/8000 [==============================] - 11s 1ms/step - loss: 0.4403 - acc: 0.8289\n",
      "Epoch 80/100\n",
      "8000/8000 [==============================] - 12s 1ms/step - loss: 0.4455 - acc: 0.8280: 1s - lo\n",
      "Epoch 81/100\n",
      "8000/8000 [==============================] - 9s 1ms/step - loss: 0.4516 - acc: 0.8295\n",
      "Epoch 82/100\n",
      "8000/8000 [==============================] - 9s 1ms/step - loss: 0.4560 - acc: 0.8296\n",
      "Epoch 83/100\n"
     ]
    },
    {
     "name": "stdout",
     "output_type": "stream",
     "text": [
      "8000/8000 [==============================] - 8s 1ms/step - loss: 0.4612 - acc: 0.8327\n",
      "Epoch 84/100\n",
      "8000/8000 [==============================] - 9s 1ms/step - loss: 0.4655 - acc: 0.8317\n",
      "Epoch 85/100\n",
      "8000/8000 [==============================] - 9s 1ms/step - loss: 0.4681 - acc: 0.8315\n",
      "Epoch 86/100\n",
      "8000/8000 [==============================] - 8s 1ms/step - loss: 0.4622 - acc: 0.8319\n",
      "Epoch 87/100\n",
      "8000/8000 [==============================] - 9s 1ms/step - loss: 0.4703 - acc: 0.8325\n",
      "Epoch 88/100\n",
      "8000/8000 [==============================] - 10s 1ms/step - loss: 0.4742 - acc: 0.8321\n",
      "Epoch 89/100\n",
      "8000/8000 [==============================] - 11s 1ms/step - loss: 0.4753 - acc: 0.8305\n",
      "Epoch 90/100\n",
      "8000/8000 [==============================] - 11s 1ms/step - loss: 0.4624 - acc: 0.8341\n",
      "Epoch 91/100\n",
      "8000/8000 [==============================] - 8s 986us/step - loss: 0.4672 - acc: 0.8367\n",
      "Epoch 92/100\n",
      "8000/8000 [==============================] - 8s 999us/step - loss: 0.4690 - acc: 0.8329\n",
      "Epoch 93/100\n",
      "8000/8000 [==============================] - 8s 1ms/step - loss: 6.3746 - acc: 0.5309\n",
      "Epoch 94/100\n",
      "8000/8000 [==============================] - 8s 1ms/step - loss: 12.7253 - acc: 0.2017\n",
      "Epoch 95/100\n",
      "8000/8000 [==============================] - 8s 1ms/step - loss: 12.7259 - acc: 0.2017\n",
      "Epoch 96/100\n",
      "8000/8000 [==============================] - 8s 1ms/step - loss: 12.7259 - acc: 0.2017\n",
      "Epoch 97/100\n",
      "8000/8000 [==============================] - 8s 1ms/step - loss: 12.7260 - acc: 0.2017\n",
      "Epoch 98/100\n",
      "8000/8000 [==============================] - 8s 1ms/step - loss: 12.7260 - acc: 0.2017\n",
      "Epoch 99/100\n",
      "8000/8000 [==============================] - 11s 1ms/step - loss: 12.7260 - acc: 0.2017\n",
      "Epoch 100/100\n",
      "8000/8000 [==============================] - 10s 1ms/step - loss: 12.7260 - acc: 0.2017\n"
     ]
    },
    {
     "data": {
      "text/plain": [
       "<keras.callbacks.History at 0x26983449748>"
      ]
     },
     "execution_count": 10,
     "metadata": {},
     "output_type": "execute_result"
    }
   ],
   "source": [
    "classifier.fit(X_train,Y_train,batch_size=1,epochs=100)"
   ]
  },
  {
   "cell_type": "code",
   "execution_count": 11,
   "metadata": {},
   "outputs": [
    {
     "name": "stdout",
     "output_type": "stream",
     "text": [
      "1\n"
     ]
    },
    {
     "name": "stderr",
     "output_type": "stream",
     "text": [
      "C:\\Users\\PuneetPC\\Anaconda3\\lib\\site-packages\\sklearn\\utils\\validation.py:475: DataConversionWarning: Data with input dtype int32 was converted to float64 by StandardScaler.\n",
      "  warnings.warn(msg, DataConversionWarning)\n"
     ]
    }
   ],
   "source": [
    "X_new=classifier.predict(sc_X.transform(np.array([[0,0,600,1,40,3,60000,2,1,1,50000]])))\n",
    "if X_new > 0.5:\n",
    "    print (1)\n",
    "else:\n",
    "    print(0)"
   ]
  },
  {
   "cell_type": "code",
   "execution_count": 12,
   "metadata": {},
   "outputs": [
    {
     "data": {
      "text/plain": [
       "array([[   0, 6386],\n",
       "       [   0, 1614]], dtype=int64)"
      ]
     },
     "execution_count": 12,
     "metadata": {},
     "output_type": "execute_result"
    }
   ],
   "source": [
    "y_pred=classifier.predict(X_train)\n",
    "for i in range(0,len(y_pred)):\n",
    "    if y_pred[i] > 0.5 :\n",
    "        y_pred[i] =1\n",
    "    else:\n",
    "        y_pred[i]=0       \n",
    "from sklearn.metrics import confusion_matrix\n",
    "conf_train=confusion_matrix(Y_train,y_pred)\n",
    "conf_train"
   ]
  },
  {
   "cell_type": "code",
   "execution_count": null,
   "metadata": {
    "collapsed": true
   },
   "outputs": [],
   "source": [
    "from keras.wrappers.scikit_learn import KerasClassifier\n",
    "count=0\n",
    "def classifier_fn(estimator):\n",
    "    classifier=Sequential()\n",
    "    classifier.add(Dense(input_dim=11,output_dim=6,init='uniform',activation='relu'))\n",
    "    classifier.add(Dense(output_dim=6,init='uniform',activation='relu'))\n",
    "    classifier.add(Dense(output_dim=6,init='uniform',activation='relu'))\n",
    "    classifier.add(Dense(output_dim=1,init='uniform',activation='sigmoid'))\n",
    "    classifier.compile(optimizer='rmsprop',loss='binary_crossentropy',metrics=['accuracy'])\n",
    "    count=count+1\n",
    "    print(count)\n",
    "    return classifier\n",
    "model=KerasClassifier(build_fn=classifier_fn,batch_size=25,epochs=10)\n"
   ]
  },
  {
   "cell_type": "code",
   "execution_count": null,
   "metadata": {
    "collapsed": true
   },
   "outputs": [],
   "source": [
    "from sklearn.model_selection import cross_val_score\n",
    "score=cross_val_score(estimator=model,X=X_train,y=Y_train,scoring='accuracy',cv=2,n_jobs=-1)"
   ]
  },
  {
   "cell_type": "code",
   "execution_count": null,
   "metadata": {
    "collapsed": true
   },
   "outputs": [],
   "source": []
  },
  {
   "cell_type": "code",
   "execution_count": null,
   "metadata": {
    "collapsed": true
   },
   "outputs": [],
   "source": []
  }
 ],
 "metadata": {
  "kernelspec": {
   "display_name": "Python 3",
   "language": "python",
   "name": "python3"
  },
  "language_info": {
   "codemirror_mode": {
    "name": "ipython",
    "version": 3
   },
   "file_extension": ".py",
   "mimetype": "text/x-python",
   "name": "python",
   "nbconvert_exporter": "python",
   "pygments_lexer": "ipython3",
   "version": "3.6.3"
  }
 },
 "nbformat": 4,
 "nbformat_minor": 2
}
