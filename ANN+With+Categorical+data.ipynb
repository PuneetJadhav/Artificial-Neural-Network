{
 "cells": [
  {
   "cell_type": "code",
   "execution_count": 10,
   "metadata": {},
   "outputs": [],
   "source": [
    "import pandas as pd\n",
    "import numpy as np\n",
    "import keras\n",
    "import sklearn\n",
    "import tensorflow"
   ]
  },
  {
   "cell_type": "code",
   "execution_count": 11,
   "metadata": {
    "collapsed": true
   },
   "outputs": [],
   "source": [
    "import os\n",
    "import warnings\n",
    "os.chdir('C:\\\\College\\\\Machine Learnings\\\\Part 9 - Dimensionality Reduction\\\\Section 43 - Principal Component Analysis (PCA)')"
   ]
  },
  {
   "cell_type": "code",
   "execution_count": 12,
   "metadata": {},
   "outputs": [
    {
     "data": {
      "text/html": [
       "<div>\n",
       "<style scoped>\n",
       "    .dataframe tbody tr th:only-of-type {\n",
       "        vertical-align: middle;\n",
       "    }\n",
       "\n",
       "    .dataframe tbody tr th {\n",
       "        vertical-align: top;\n",
       "    }\n",
       "\n",
       "    .dataframe thead th {\n",
       "        text-align: right;\n",
       "    }\n",
       "</style>\n",
       "<table border=\"1\" class=\"dataframe\">\n",
       "  <thead>\n",
       "    <tr style=\"text-align: right;\">\n",
       "      <th></th>\n",
       "      <th>Alcohol</th>\n",
       "      <th>Malic_Acid</th>\n",
       "      <th>Ash</th>\n",
       "      <th>Ash_Alcanity</th>\n",
       "      <th>Magnesium</th>\n",
       "      <th>Total_Phenols</th>\n",
       "      <th>Flavanoids</th>\n",
       "      <th>Nonflavanoid_Phenols</th>\n",
       "      <th>Proanthocyanins</th>\n",
       "      <th>Color_Intensity</th>\n",
       "      <th>Hue</th>\n",
       "      <th>OD280</th>\n",
       "      <th>Proline</th>\n",
       "      <th>Customer_Segment</th>\n",
       "    </tr>\n",
       "  </thead>\n",
       "  <tbody>\n",
       "    <tr>\n",
       "      <th>0</th>\n",
       "      <td>14.23</td>\n",
       "      <td>1.71</td>\n",
       "      <td>2.43</td>\n",
       "      <td>15.6</td>\n",
       "      <td>127</td>\n",
       "      <td>2.80</td>\n",
       "      <td>3.06</td>\n",
       "      <td>0.28</td>\n",
       "      <td>2.29</td>\n",
       "      <td>5.64</td>\n",
       "      <td>1.04</td>\n",
       "      <td>3.92</td>\n",
       "      <td>1065</td>\n",
       "      <td>1</td>\n",
       "    </tr>\n",
       "    <tr>\n",
       "      <th>1</th>\n",
       "      <td>13.20</td>\n",
       "      <td>1.78</td>\n",
       "      <td>2.14</td>\n",
       "      <td>11.2</td>\n",
       "      <td>100</td>\n",
       "      <td>2.65</td>\n",
       "      <td>2.76</td>\n",
       "      <td>0.26</td>\n",
       "      <td>1.28</td>\n",
       "      <td>4.38</td>\n",
       "      <td>1.05</td>\n",
       "      <td>3.40</td>\n",
       "      <td>1050</td>\n",
       "      <td>1</td>\n",
       "    </tr>\n",
       "    <tr>\n",
       "      <th>2</th>\n",
       "      <td>13.16</td>\n",
       "      <td>2.36</td>\n",
       "      <td>2.67</td>\n",
       "      <td>18.6</td>\n",
       "      <td>101</td>\n",
       "      <td>2.80</td>\n",
       "      <td>3.24</td>\n",
       "      <td>0.30</td>\n",
       "      <td>2.81</td>\n",
       "      <td>5.68</td>\n",
       "      <td>1.03</td>\n",
       "      <td>3.17</td>\n",
       "      <td>1185</td>\n",
       "      <td>1</td>\n",
       "    </tr>\n",
       "    <tr>\n",
       "      <th>3</th>\n",
       "      <td>14.37</td>\n",
       "      <td>1.95</td>\n",
       "      <td>2.50</td>\n",
       "      <td>16.8</td>\n",
       "      <td>113</td>\n",
       "      <td>3.85</td>\n",
       "      <td>3.49</td>\n",
       "      <td>0.24</td>\n",
       "      <td>2.18</td>\n",
       "      <td>7.80</td>\n",
       "      <td>0.86</td>\n",
       "      <td>3.45</td>\n",
       "      <td>1480</td>\n",
       "      <td>1</td>\n",
       "    </tr>\n",
       "    <tr>\n",
       "      <th>4</th>\n",
       "      <td>13.24</td>\n",
       "      <td>2.59</td>\n",
       "      <td>2.87</td>\n",
       "      <td>21.0</td>\n",
       "      <td>118</td>\n",
       "      <td>2.80</td>\n",
       "      <td>2.69</td>\n",
       "      <td>0.39</td>\n",
       "      <td>1.82</td>\n",
       "      <td>4.32</td>\n",
       "      <td>1.04</td>\n",
       "      <td>2.93</td>\n",
       "      <td>735</td>\n",
       "      <td>1</td>\n",
       "    </tr>\n",
       "  </tbody>\n",
       "</table>\n",
       "</div>"
      ],
      "text/plain": [
       "   Alcohol  Malic_Acid   Ash  Ash_Alcanity  Magnesium  Total_Phenols  \\\n",
       "0    14.23        1.71  2.43          15.6        127           2.80   \n",
       "1    13.20        1.78  2.14          11.2        100           2.65   \n",
       "2    13.16        2.36  2.67          18.6        101           2.80   \n",
       "3    14.37        1.95  2.50          16.8        113           3.85   \n",
       "4    13.24        2.59  2.87          21.0        118           2.80   \n",
       "\n",
       "   Flavanoids  Nonflavanoid_Phenols  Proanthocyanins  Color_Intensity   Hue  \\\n",
       "0        3.06                  0.28             2.29             5.64  1.04   \n",
       "1        2.76                  0.26             1.28             4.38  1.05   \n",
       "2        3.24                  0.30             2.81             5.68  1.03   \n",
       "3        3.49                  0.24             2.18             7.80  0.86   \n",
       "4        2.69                  0.39             1.82             4.32  1.04   \n",
       "\n",
       "   OD280  Proline  Customer_Segment  \n",
       "0   3.92     1065                 1  \n",
       "1   3.40     1050                 1  \n",
       "2   3.17     1185                 1  \n",
       "3   3.45     1480                 1  \n",
       "4   2.93      735                 1  "
      ]
     },
     "execution_count": 12,
     "metadata": {},
     "output_type": "execute_result"
    }
   ],
   "source": [
    "dataset=pd.read_csv('Wine.csv')\n",
    "dataset.head()"
   ]
  },
  {
   "cell_type": "code",
   "execution_count": 13,
   "metadata": {},
   "outputs": [
    {
     "data": {
      "text/plain": [
       "array([1, 2, 3], dtype=int64)"
      ]
     },
     "execution_count": 13,
     "metadata": {},
     "output_type": "execute_result"
    }
   ],
   "source": [
    "dataset['Customer_Segment'].unique() \n",
    "### Three categories of data for Wines -- Customer Segement ###########"
   ]
  },
  {
   "cell_type": "code",
   "execution_count": 14,
   "metadata": {
    "collapsed": true
   },
   "outputs": [],
   "source": [
    "X=dataset.iloc[:,0:13].values"
   ]
  },
  {
   "cell_type": "code",
   "execution_count": 15,
   "metadata": {},
   "outputs": [],
   "source": [
    "Y=dataset.iloc[:,len(dataset.columns)-1:]"
   ]
  },
  {
   "cell_type": "markdown",
   "metadata": {},
   "source": [
    "Create Train and Test data set"
   ]
  },
  {
   "cell_type": "code",
   "execution_count": 16,
   "metadata": {},
   "outputs": [
    {
     "name": "stderr",
     "output_type": "stream",
     "text": [
      "C:\\Users\\PuneetPC\\Anaconda3\\lib\\site-packages\\sklearn\\preprocessing\\label.py:111: DataConversionWarning: A column-vector y was passed when a 1d array was expected. Please change the shape of y to (n_samples, ), for example using ravel().\n",
      "  y = column_or_1d(y, warn=True)\n"
     ]
    }
   ],
   "source": [
    "from sklearn.preprocessing import OneHotEncoder,LabelEncoder\n",
    "labelencoder=LabelEncoder()\n",
    "Y=labelencoder.fit_transform(Y)\n",
    "Y=Y.reshape((len(Y),1))\n",
    "onehotencoder=OneHotEncoder(categorical_features=[0])\n",
    "Y=onehotencoder.fit_transform(Y).toarray()\n",
    "from sklearn.cross_validation import train_test_split\n",
    "X_train,X_test,Y_train,Y_test=train_test_split(X,Y,test_size=0.2)\n"
   ]
  },
  {
   "cell_type": "markdown",
   "metadata": {},
   "source": [
    "Scaling the X array"
   ]
  },
  {
   "cell_type": "code",
   "execution_count": 17,
   "metadata": {
    "collapsed": true
   },
   "outputs": [],
   "source": [
    "from sklearn.preprocessing import StandardScaler\n",
    "sc_X=StandardScaler()\n",
    "X_train=sc_X.fit_transform(X_train)\n",
    "X_test=sc_X.transform(X_test)"
   ]
  },
  {
   "cell_type": "code",
   "execution_count": 18,
   "metadata": {},
   "outputs": [
    {
     "name": "stderr",
     "output_type": "stream",
     "text": [
      "C:\\Users\\PuneetPC\\Anaconda3\\lib\\site-packages\\ipykernel_launcher.py:5: UserWarning: Update your `Dense` call to the Keras 2 API: `Dense(input_dim=13, activation=\"relu\", units=8, kernel_initializer=\"uniform\")`\n",
      "  \"\"\"\n",
      "C:\\Users\\PuneetPC\\Anaconda3\\lib\\site-packages\\ipykernel_launcher.py:7: UserWarning: Update your `Dense` call to the Keras 2 API: `Dense(activation=\"relu\", units=8, kernel_initializer=\"uniform\")`\n",
      "  import sys\n",
      "C:\\Users\\PuneetPC\\Anaconda3\\lib\\site-packages\\ipykernel_launcher.py:9: UserWarning: Update your `Dense` call to the Keras 2 API: `Dense(activation=\"relu\", units=8, kernel_initializer=\"uniform\")`\n",
      "  if __name__ == '__main__':\n",
      "C:\\Users\\PuneetPC\\Anaconda3\\lib\\site-packages\\ipykernel_launcher.py:11: UserWarning: Update your `Dense` call to the Keras 2 API: `Dense(activation=\"softmax\", units=3, kernel_initializer=\"uniform\")`\n",
      "  # This is added back by InteractiveShellApp.init_path()\n"
     ]
    },
    {
     "name": "stdout",
     "output_type": "stream",
     "text": [
      "Epoch 1/100\n",
      "142/142 [==============================] - 1s 7ms/step - loss: 1.0985 - acc: 0.3732\n",
      "Epoch 2/100\n",
      "142/142 [==============================] - 0s 92us/step - loss: 1.0979 - acc: 0.4085\n",
      "Epoch 3/100\n",
      "142/142 [==============================] - 0s 134us/step - loss: 1.0975 - acc: 0.4085\n",
      "Epoch 4/100\n",
      "142/142 [==============================] - 0s 106us/step - loss: 1.0969 - acc: 0.4085\n",
      "Epoch 5/100\n",
      "142/142 [==============================] - 0s 339us/step - loss: 1.0964 - acc: 0.4085\n",
      "Epoch 6/100\n",
      "142/142 [==============================] - 0s 170us/step - loss: 1.0959 - acc: 0.4085\n",
      "Epoch 7/100\n",
      "142/142 [==============================] - 0s 289us/step - loss: 1.0953 - acc: 0.4085\n",
      "Epoch 8/100\n",
      "142/142 [==============================] - 0s 233us/step - loss: 1.0948 - acc: 0.4085\n",
      "Epoch 9/100\n",
      "142/142 [==============================] - 0s 191us/step - loss: 1.0941 - acc: 0.4085\n",
      "Epoch 10/100\n",
      "142/142 [==============================] - 0s 113us/step - loss: 1.0934 - acc: 0.4085\n",
      "Epoch 11/100\n",
      "142/142 [==============================] - 0s 134us/step - loss: 1.0922 - acc: 0.4085\n",
      "Epoch 12/100\n",
      "142/142 [==============================] - 0s 226us/step - loss: 1.0908 - acc: 0.4085\n",
      "Epoch 13/100\n",
      "142/142 [==============================] - 0s 233us/step - loss: 1.0890 - acc: 0.4085\n",
      "Epoch 14/100\n",
      "142/142 [==============================] - 0s 395us/step - loss: 1.0864 - acc: 0.4085\n",
      "Epoch 15/100\n",
      "142/142 [==============================] - 0s 162us/step - loss: 1.0831 - acc: 0.4085\n",
      "Epoch 16/100\n",
      "142/142 [==============================] - 0s 155us/step - loss: 1.0790 - acc: 0.4085\n",
      "Epoch 17/100\n",
      "142/142 [==============================] - 0s 141us/step - loss: 1.0739 - acc: 0.4085\n",
      "Epoch 18/100\n",
      "142/142 [==============================] - 0s 169us/step - loss: 1.0672 - acc: 0.4085\n",
      "Epoch 19/100\n",
      "142/142 [==============================] - 0s 169us/step - loss: 1.0596 - acc: 0.4085\n",
      "Epoch 20/100\n",
      "142/142 [==============================] - 0s 127us/step - loss: 1.0505 - acc: 0.4085\n",
      "Epoch 21/100\n",
      "142/142 [==============================] - 0s 120us/step - loss: 1.0397 - acc: 0.4085\n",
      "Epoch 22/100\n",
      "142/142 [==============================] - 0s 141us/step - loss: 1.0274 - acc: 0.4085\n",
      "Epoch 23/100\n",
      "142/142 [==============================] - 0s 155us/step - loss: 1.0135 - acc: 0.4085\n",
      "Epoch 24/100\n",
      "142/142 [==============================] - 0s 261us/step - loss: 0.9978 - acc: 0.4085\n",
      "Epoch 25/100\n",
      "142/142 [==============================] - 0s 191us/step - loss: 0.9810 - acc: 0.4085\n",
      "Epoch 26/100\n",
      "142/142 [==============================] - 0s 198us/step - loss: 0.9631 - acc: 0.4085\n",
      "Epoch 27/100\n",
      "142/142 [==============================] - 0s 219us/step - loss: 0.9456 - acc: 0.4155\n",
      "Epoch 28/100\n",
      "142/142 [==============================] - 0s 106us/step - loss: 0.9274 - acc: 0.4789\n",
      "Epoch 29/100\n",
      "142/142 [==============================] - 0s 184us/step - loss: 0.9108 - acc: 0.5423\n",
      "Epoch 30/100\n",
      "142/142 [==============================] - 0s 134us/step - loss: 0.8951 - acc: 0.5493\n",
      "Epoch 31/100\n",
      "142/142 [==============================] - 0s 198us/step - loss: 0.8822 - acc: 0.4930\n",
      "Epoch 32/100\n",
      "142/142 [==============================] - 0s 134us/step - loss: 0.8687 - acc: 0.4366\n",
      "Epoch 33/100\n",
      "142/142 [==============================] - 0s 134us/step - loss: 0.8570 - acc: 0.4155\n",
      "Epoch 34/100\n",
      "142/142 [==============================] - 0s 134us/step - loss: 0.8467 - acc: 0.3944\n",
      "Epoch 35/100\n",
      "142/142 [==============================] - 0s 177us/step - loss: 0.8371 - acc: 0.3873\n",
      "Epoch 36/100\n",
      "142/142 [==============================] - 0s 134us/step - loss: 0.8278 - acc: 0.3873\n",
      "Epoch 37/100\n",
      "142/142 [==============================] - 0s 177us/step - loss: 0.8196 - acc: 0.3873\n",
      "Epoch 38/100\n",
      "142/142 [==============================] - 0s 155us/step - loss: 0.8114 - acc: 0.3873\n",
      "Epoch 39/100\n",
      "142/142 [==============================] - 0s 134us/step - loss: 0.8032 - acc: 0.3873\n",
      "Epoch 40/100\n",
      "142/142 [==============================] - 0s 120us/step - loss: 0.7954 - acc: 0.3873\n",
      "Epoch 41/100\n",
      "142/142 [==============================] - 0s 219us/step - loss: 0.7877 - acc: 0.3873\n",
      "Epoch 42/100\n",
      "142/142 [==============================] - 0s 162us/step - loss: 0.7799 - acc: 0.3873\n",
      "Epoch 43/100\n",
      "142/142 [==============================] - 0s 290us/step - loss: 0.7718 - acc: 0.3873\n",
      "Epoch 44/100\n",
      "142/142 [==============================] - 0s 113us/step - loss: 0.7648 - acc: 0.3944\n",
      "Epoch 45/100\n",
      "142/142 [==============================] - 0s 261us/step - loss: 0.7564 - acc: 0.4225\n",
      "Epoch 46/100\n",
      "142/142 [==============================] - 0s 113us/step - loss: 0.7486 - acc: 0.4437\n",
      "Epoch 47/100\n",
      "142/142 [==============================] - 0s 134us/step - loss: 0.7408 - acc: 0.4577\n",
      "Epoch 48/100\n",
      "142/142 [==============================] - 0s 134us/step - loss: 0.7339 - acc: 0.4648\n",
      "Epoch 49/100\n",
      "142/142 [==============================] - 0s 113us/step - loss: 0.7252 - acc: 0.4789\n",
      "Epoch 50/100\n",
      "142/142 [==============================] - 0s 141us/step - loss: 0.7177 - acc: 0.5070\n",
      "Epoch 51/100\n",
      "142/142 [==============================] - 0s 106us/step - loss: 0.7099 - acc: 0.5563\n",
      "Epoch 52/100\n",
      "142/142 [==============================] - ETA: 0s - loss: 0.7534 - acc: 0.800 - 0s 198us/step - loss: 0.7019 - acc: 0.7958\n",
      "Epoch 53/100\n",
      "142/142 [==============================] - 0s 99us/step - loss: 0.6944 - acc: 0.8310\n",
      "Epoch 54/100\n",
      "142/142 [==============================] - 0s 120us/step - loss: 0.6865 - acc: 0.8380\n",
      "Epoch 55/100\n",
      "142/142 [==============================] - 0s 134us/step - loss: 0.6786 - acc: 0.8521\n",
      "Epoch 56/100\n",
      "142/142 [==============================] - 0s 219us/step - loss: 0.6708 - acc: 0.8521\n",
      "Epoch 57/100\n",
      "142/142 [==============================] - 0s 141us/step - loss: 0.6627 - acc: 0.8732\n",
      "Epoch 58/100\n",
      "142/142 [==============================] - 0s 141us/step - loss: 0.6548 - acc: 0.8732\n",
      "Epoch 59/100\n",
      "142/142 [==============================] - 0s 127us/step - loss: 0.6469 - acc: 0.8944\n",
      "Epoch 60/100\n",
      "142/142 [==============================] - 0s 155us/step - loss: 0.6391 - acc: 0.9014\n",
      "Epoch 61/100\n",
      "142/142 [==============================] - 0s 134us/step - loss: 0.6314 - acc: 0.9155\n",
      "Epoch 62/100\n",
      "142/142 [==============================] - 0s 120us/step - loss: 0.6234 - acc: 0.9155\n",
      "Epoch 63/100\n",
      "142/142 [==============================] - 0s 92us/step - loss: 0.6154 - acc: 0.9225\n",
      "Epoch 64/100\n",
      "142/142 [==============================] - 0s 290us/step - loss: 0.6074 - acc: 0.9225\n",
      "Epoch 65/100\n",
      "142/142 [==============================] - 0s 127us/step - loss: 0.5993 - acc: 0.9296\n",
      "Epoch 66/100\n",
      "142/142 [==============================] - 0s 113us/step - loss: 0.5914 - acc: 0.9296\n",
      "Epoch 67/100\n",
      "142/142 [==============================] - 0s 99us/step - loss: 0.5831 - acc: 0.9296\n",
      "Epoch 68/100\n",
      "142/142 [==============================] - 0s 106us/step - loss: 0.5754 - acc: 0.9225\n",
      "Epoch 69/100\n",
      "142/142 [==============================] - 0s 162us/step - loss: 0.5667 - acc: 0.9366\n",
      "Epoch 70/100\n",
      "142/142 [==============================] - 0s 134us/step - loss: 0.5585 - acc: 0.9437\n",
      "Epoch 71/100\n",
      "142/142 [==============================] - 0s 113us/step - loss: 0.5497 - acc: 0.9437\n",
      "Epoch 72/100\n",
      "142/142 [==============================] - 0s 134us/step - loss: 0.5411 - acc: 0.9507\n",
      "Epoch 73/100\n",
      "142/142 [==============================] - 0s 113us/step - loss: 0.5320 - acc: 0.9507\n",
      "Epoch 74/100\n",
      "142/142 [==============================] - 0s 120us/step - loss: 0.5236 - acc: 0.9507\n",
      "Epoch 75/100\n",
      "142/142 [==============================] - 0s 141us/step - loss: 0.5136 - acc: 0.9577\n",
      "Epoch 76/100\n",
      "142/142 [==============================] - 0s 120us/step - loss: 0.5041 - acc: 0.9577\n",
      "Epoch 77/100\n",
      "142/142 [==============================] - 0s 106us/step - loss: 0.4941 - acc: 0.9577\n",
      "Epoch 78/100\n",
      "142/142 [==============================] - 0s 162us/step - loss: 0.4837 - acc: 0.9577\n",
      "Epoch 79/100\n",
      "142/142 [==============================] - 0s 99us/step - loss: 0.4732 - acc: 0.9648\n",
      "Epoch 80/100\n",
      "142/142 [==============================] - 0s 261us/step - loss: 0.4621 - acc: 0.9789\n",
      "Epoch 81/100\n",
      "142/142 [==============================] - 0s 120us/step - loss: 0.4511 - acc: 0.9789\n",
      "Epoch 82/100\n",
      "142/142 [==============================] - 0s 127us/step - loss: 0.4397 - acc: 0.9859\n",
      "Epoch 83/100\n"
     ]
    },
    {
     "name": "stdout",
     "output_type": "stream",
     "text": [
      "142/142 [==============================] - 0s 120us/step - loss: 0.4281 - acc: 0.9930\n",
      "Epoch 84/100\n",
      "142/142 [==============================] - 0s 169us/step - loss: 0.4158 - acc: 0.9930\n",
      "Epoch 85/100\n",
      "142/142 [==============================] - 0s 155us/step - loss: 0.4035 - acc: 0.9930\n",
      "Epoch 86/100\n",
      "142/142 [==============================] - 0s 120us/step - loss: 0.3913 - acc: 0.9930\n",
      "Epoch 87/100\n",
      "142/142 [==============================] - 0s 120us/step - loss: 0.3788 - acc: 1.0000\n",
      "Epoch 88/100\n",
      "142/142 [==============================] - 0s 177us/step - loss: 0.3663 - acc: 1.0000\n",
      "Epoch 89/100\n",
      "142/142 [==============================] - 0s 162us/step - loss: 0.3547 - acc: 1.0000\n",
      "Epoch 90/100\n",
      "142/142 [==============================] - 0s 184us/step - loss: 0.3428 - acc: 1.0000\n",
      "Epoch 91/100\n",
      "142/142 [==============================] - 0s 148us/step - loss: 0.3308 - acc: 1.0000\n",
      "Epoch 92/100\n",
      "142/142 [==============================] - 0s 304us/step - loss: 0.3187 - acc: 1.0000\n",
      "Epoch 93/100\n",
      "142/142 [==============================] - 0s 148us/step - loss: 0.3059 - acc: 1.0000\n",
      "Epoch 94/100\n",
      "142/142 [==============================] - 0s 219us/step - loss: 0.2920 - acc: 1.0000\n",
      "Epoch 95/100\n",
      "142/142 [==============================] - 0s 162us/step - loss: 0.2772 - acc: 1.0000\n",
      "Epoch 96/100\n",
      "142/142 [==============================] - 0s 120us/step - loss: 0.2617 - acc: 1.0000\n",
      "Epoch 97/100\n",
      "142/142 [==============================] - ETA: 0s - loss: 0.3393 - acc: 1.000 - 0s 120us/step - loss: 0.2455 - acc: 1.0000\n",
      "Epoch 98/100\n",
      "142/142 [==============================] - 0s 127us/step - loss: 0.2278 - acc: 1.0000\n",
      "Epoch 99/100\n",
      "142/142 [==============================] - 0s 148us/step - loss: 0.2095 - acc: 1.0000\n",
      "Epoch 100/100\n",
      "142/142 [==============================] - 0s 148us/step - loss: 0.1896 - acc: 1.0000\n"
     ]
    },
    {
     "data": {
      "text/plain": [
       "<keras.callbacks.History at 0x11fc179cef0>"
      ]
     },
     "execution_count": 18,
     "metadata": {},
     "output_type": "execute_result"
    }
   ],
   "source": [
    "from keras.layers import Dense\n",
    "from keras.models import Sequential\n",
    "classifier=Sequential()\n",
    "## Add 1st hidden layer and input layer\n",
    "classifier.add(Dense(input_dim=13,output_dim=8,activation='relu',init='uniform'))\n",
    "### Add 2nd hidden layer\n",
    "classifier.add(Dense(output_dim=8,activation='relu',init='uniform'))\n",
    "### add 3rd hidden layer\n",
    "classifier.add(Dense(output_dim=8,activation='relu',init='uniform'))\n",
    "## add output layer\n",
    "classifier.add(Dense(output_dim=3,activation='softmax',init='uniform'))\n",
    "### Compile ANN\n",
    "classifier.compile(optimizer='adam',loss='categorical_crossentropy',metrics=['accuracy'])\n",
    "classifier.fit(X_train,Y_train,batch_size=30,epochs=100)"
   ]
  },
  {
   "cell_type": "markdown",
   "metadata": {},
   "source": [
    "Check the Grid Search to get right parameters"
   ]
  },
  {
   "cell_type": "code",
   "execution_count": 19,
   "metadata": {},
   "outputs": [],
   "source": [
    "from keras.wrappers.scikit_learn import KerasClassifier\n",
    "count=0\n",
    "def classifier_fn(optimizer):\n",
    "    classifier=Sequential()\n",
    "    classifier.add(Dense(input_dim=13,output_dim=8,activation='relu',init='uniform'))\n",
    "    classifier.add(Dense(output_dim=8,activation='relu',init='uniform'))\n",
    "    classifier.add(Dense(output_dim=8,activation='relu',init='uniform'))\n",
    "    classifier.add(Dense(output_dim=3,activation='softmax',init='uniform'))\n",
    "    classifier.compile(optimizer='adam',loss='categorical_crossentropy',metrics=['accuracy'])\n",
    "    count=count+1\n",
    "    print(count)\n",
    "    return classifier\n",
    "model=KerasClassifier(build_fn=classifier_fn,batch_size=30,epochs=2)\n",
    "from sklearn.model_selection import GridSearchCV\n",
    "parameter={'optimizer':['adam','rmsprop'],'loss':['binary_crossentropy','categorical_crossentropy','mean_squared_error'],\n",
    "           'batch_size':[1,10,20,25,32,50],'epochs':[10,100,200,300,400,500]}\n",
    "grid_search=GridSearchCV(model,n_jobs=-1,scoring='accuracy',param_grid=parameter)"
   ]
  },
  {
   "cell_type": "code",
   "execution_count": null,
   "metadata": {},
   "outputs": [],
   "source": [
    "score=grid_search.fit(X_train,Y_train)"
   ]
  },
  {
   "cell_type": "code",
   "execution_count": null,
   "metadata": {
    "collapsed": true
   },
   "outputs": [],
   "source": []
  }
 ],
 "metadata": {
  "kernelspec": {
   "display_name": "Python 3",
   "language": "python",
   "name": "python3"
  },
  "language_info": {
   "codemirror_mode": {
    "name": "ipython",
    "version": 3
   },
   "file_extension": ".py",
   "mimetype": "text/x-python",
   "name": "python",
   "nbconvert_exporter": "python",
   "pygments_lexer": "ipython3",
   "version": "3.6.3"
  }
 },
 "nbformat": 4,
 "nbformat_minor": 2
}
